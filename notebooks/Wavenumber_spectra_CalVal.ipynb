{
 "cells": [
  {
   "cell_type": "markdown",
   "id": "3911a2a0-fa79-446f-9483-f8f8bad9d940",
   "metadata": {
    "tags": []
   },
   "source": [
    "<div style=\"background-color: lightgreen; padding: 10px; border-radius: 5px;\">\n",
    "    <p style=\"margin: 10;\"></p>\n",
    "    <h1 style=\"text-align: center; margin: 0;\">Computing Wavenumber spectra from SWOT SSH L3 data during the CalVal period</h1>\n",
    "    <p style=\"margin: 10;\"></p>\n",
    "</div>\n",
    "\n",
    "***\n",
    "\n",
    "***\n",
    "<br>"
   ]
  },
  {
   "cell_type": "markdown",
   "id": "6eb0447e-69c5-4c0b-a2b5-3127184cf6e8",
   "metadata": {},
   "source": [
    "## **Introduction** 🌊\n",
    "In this notebook, we present a demonstration of how to use widetrax to calculate wavenumber spectra using SWOT L3 data.\n",
    "\n",
    "The main objectives of this notebook are to:\n",
    "\n",
    "1. Load SWOT satellite datasets stored in an S3 bucket.\n",
    "2. Filter and process the data for a specific region and time period.\n",
    "3. Handle and Interpolate Potential NaN Values.\n",
    "3. Compute Wavenumber spectra."
   ]
  },
  {
   "cell_type": "markdown",
   "id": "028906fd-9f60-43e9-a251-23fd6cb4a623",
   "metadata": {
    "tags": []
   },
   "source": [
    "## ✨ **Before starting** ✨\n",
    "\n",
    "Before running this notebook, make sure you have already installed the following libraries:\n",
    "\n",
    "1. **pyinterp**: [Installation Guide](https://cnes.github.io/pangeo-pyinterp/setup.html)  \n",
    "2. **widetrax**: [Installation Guide](https://widetrax.readthedocs.io/en/latest/overview.html#installation)  \n",
    "\n",
    "**Note**: `widetrax` will not work if **pyinterp** is not installed.\n"
   ]
  },
  {
   "cell_type": "markdown",
   "id": "d5683f03-98ab-47af-8006-7ef87e388609",
   "metadata": {},
   "source": [
    "## **Imports/Libraries** 📦"
   ]
  },
  {
   "cell_type": "code",
   "execution_count": 9,
   "id": "23742466-d93a-4f26-bb9f-1b76694aa084",
   "metadata": {
    "tags": []
   },
   "outputs": [],
   "source": [
    "import pyinterp\n",
    "from widetrax import DataPreprocessing as dp\n",
    "from widetrax import Spectra as sp\n",
    "import matplotlib.pyplot as plt\n",
    "import json\n",
    "import warnings\n",
    "warnings.filterwarnings('ignore')"
   ]
  },
  {
   "cell_type": "markdown",
   "id": "f517f181-2b03-4c90-99cb-0b5ab0b73af6",
   "metadata": {
    "tags": []
   },
   "source": [
    "## **Choose a region** 🌍\n",
    "![Image Description](../Regions.png)"
   ]
  },
  {
   "cell_type": "code",
   "execution_count": 3,
   "id": "444c95af-6df5-49ba-9128-1a89539e5161",
   "metadata": {
    "tags": []
   },
   "outputs": [],
   "source": [
    "# open the GEOJSON file\n",
    "with open(\"CalVal_Crossover_regions.geojson\", \"r\") as f:\n",
    "    geojson_data = json.load(f)\n",
    "\n",
    "## Choose your region number\n",
    "my_region_number = 5\n",
    "\n",
    "\n",
    "region = next(\n",
    "    feature for feature in geojson_data[\"features\"] if feature[\"properties\"][\"region_id\"] == my_region_number\n",
    ")   \n",
    "# Extract coordinates\n",
    "lon_min = region[\"properties\"][\"lon_min\"]\n",
    "lon_max = region[\"properties\"][\"lon_max\"]\n",
    "lat_min = region[\"properties\"][\"lat_min\"]\n",
    "lat_max = region[\"properties\"][\"lat_max\"]"
   ]
  },
  {
   "cell_type": "markdown",
   "id": "4eae7080-3e40-4a81-98ac-7283398578c8",
   "metadata": {},
   "source": [
    "## **Required variables** 🧮"
   ]
  },
  {
   "cell_type": "markdown",
   "id": "89de9368-817f-4941-a95a-3ac3101905e8",
   "metadata": {
    "tags": []
   },
   "source": [
    "Please select the desired time period, ensuring it falls between 01-04-2023 and 10-07-2023.  \n",
    "Preferably, choose a period of 15/30 days to optimize loading time and ensure quicker data processing."
   ]
  },
  {
   "cell_type": "code",
   "execution_count": 2,
   "id": "d4358d4a-85cd-45e7-9abd-31aaa32780c3",
   "metadata": {
    "tags": []
   },
   "outputs": [],
   "source": [
    "area = [lon_min, lat_min, lon_max, lat_max]\n",
    "start_date = \"01052023\" # \"DDMMYYYY\"\n",
    "end_date =\"10052023\"\n",
    "base_s3_folder = \"project-meom-ige/SWOT_L3_V1_0\"  \n",
    "endpoint_url = \"https://minio.lab.dive.edito.eu\" "
   ]
  },
  {
   "cell_type": "markdown",
   "id": "3fc974bc-0a83-4d5a-8db5-9a0f155e7f6a",
   "metadata": {},
   "source": [
    "## **Identify the cycle numbers within the specified time range** 🔄"
   ]
  },
  {
   "cell_type": "code",
   "execution_count": 3,
   "id": "7eaab271-03c7-49e5-a661-494ca54735a3",
   "metadata": {
    "tags": []
   },
   "outputs": [
    {
     "data": {
      "text/plain": [
       "['507', '508', '509', '510', '511', '512', '513', '514', '515', '516']"
      ]
     },
     "execution_count": 3,
     "metadata": {},
     "output_type": "execute_result"
    }
   ],
   "source": [
    "file_path = \"https://minio.lab.dive.edito.eu/project-meom-ige/cycles_periods.csv\"\n",
    "matching_cycles = dp.get_matching_cycles(file_path, start_date, end_date)\n",
    "matching_cycles"
   ]
  },
  {
   "cell_type": "markdown",
   "id": "417cc065-6a81-4514-a0f3-6bfc31d13bfd",
   "metadata": {},
   "source": [
    "## **Load datasets** "
   ]
  },
  {
   "cell_type": "code",
   "execution_count": 4,
   "id": "6dd791f9-83ed-4d46-91dc-a2e9f9762e99",
   "metadata": {
    "collapsed": true,
    "jupyter": {
     "outputs_hidden": true
    },
    "tags": []
   },
   "outputs": [
    {
     "name": "stdout",
     "output_type": "stream",
     "text": [
      "507_005 included.\n",
      "Error processing file 507_013: [Errno 5] An error occurred (407) when calling the GetObject operation: Proxy Authentication Required\n",
      "507_018 included.\n",
      "Error processing file 508_003: [Errno 5] An error occurred (407) when calling the GetObject operation: Proxy Authentication Required\n",
      "508_005 included.\n",
      "508_018 included.\n",
      "Error processing file 508_021: [Errno 5] An error occurred (407) when calling the GetObject operation: Proxy Authentication Required\n",
      "509_005 included.\n",
      "Error processing file 509_011: [Errno 5] An error occurred (407) when calling the GetObject operation: Proxy Authentication Required\n",
      "509_018 included.\n",
      "Error processing cycle 510: [Errno 5] An error occurred (407) when calling the ListObjectsV2 operation: Proxy Authentication Required\n",
      "511_005 included.\n",
      "Error processing file 511_017: [Errno 5] An error occurred (407) when calling the GetObject operation: Proxy Authentication Required\n",
      "511_018 included.\n",
      "Error processing file 512_006: [Errno 5] An error occurred (407) when calling the GetObject operation: Proxy Authentication Required\n",
      "512_018 included.\n",
      "Error processing file 512_023: [Errno 5] An error occurred (407) when calling the GetObject operation: Proxy Authentication Required\n",
      "513_005 included.\n",
      "Error processing file 513_013: [Errno 5] An error occurred (407) when calling the GetObject operation: Proxy Authentication Required\n",
      "513_018 included.\n",
      "Error processing file 514_003: [Errno 5] An error occurred (407) when calling the GetObject operation: Proxy Authentication Required\n",
      "514_005 included.\n",
      "514_018 included.\n",
      "Error processing file 514_020: [Errno 5] An error occurred (407) when calling the GetObject operation: Proxy Authentication Required\n",
      "Error processing file 515_005: [Errno 5] An error occurred (407) when calling the GetObject operation: Proxy Authentication Required\n",
      "515_018 included.\n",
      "Error processing file 515_021: [Errno 5] An error occurred (407) when calling the GetObject operation: Proxy Authentication Required\n",
      "516_005 included.\n",
      "Error processing file 516_010: [Errno 5] An error occurred (407) when calling the GetObject operation: Proxy Authentication Required\n",
      "516_018 included.\n",
      "Error processing file 516_027: [Errno 5] An error occurred (407) when calling the GetObject operation: Proxy Authentication Required\n",
      "CPU times: user 26.2 s, sys: 2.05 s, total: 28.2 s\n",
      "Wall time: 7min 30s\n"
     ]
    }
   ],
   "source": [
    "%%time\n",
    "# Load datasets into a dictionary\n",
    "datasets_dict = dp.read_swot_ncfiles_S3subfolders(\n",
    "    base_s3_folder,\n",
    "    matching_cycles,\n",
    "    endpoint_url,\n",
    "    area)"
   ]
  },
  {
   "cell_type": "code",
   "execution_count": 5,
   "id": "b8f25eb2-2429-48b2-84c9-0e71cfc8783a",
   "metadata": {
    "tags": []
   },
   "outputs": [],
   "source": [
    "# Sort data by time\n",
    "sorted_datasets = dp.sort_datasets_by_time(datasets_dict)"
   ]
  },
  {
   "cell_type": "markdown",
   "id": "cd131209-ee20-458f-9711-e12dc274b5ac",
   "metadata": {},
   "source": [
    "## **Handling and Interpolating Potential NaN Values 🛠️**"
   ]
  },
  {
   "cell_type": "code",
   "execution_count": 6,
   "id": "54625a2f-6bc8-4cf5-9d3f-a32cd857a8fe",
   "metadata": {
    "tags": []
   },
   "outputs": [
    {
     "name": "stdout",
     "output_type": "stream",
     "text": [
      "CPU times: user 366 ms, sys: 1.15 s, total: 1.51 s\n",
      "Wall time: 1.87 s\n"
     ]
    }
   ],
   "source": [
    "%%time\n",
    "has_converged, filled_datasets = dp.fill_nan(sorted_datasets)"
   ]
  },
  {
   "cell_type": "markdown",
   "id": "c3d151d5-2b6c-4ca0-9387-b9b3f30e99c7",
   "metadata": {},
   "source": [
    "## **Extract Segments ✂️**"
   ]
  },
  {
   "cell_type": "code",
   "execution_count": 7,
   "id": "ae603f8e-0029-4f49-923c-2c615d817dcc",
   "metadata": {
    "tags": []
   },
   "outputs": [
    {
     "name": "stdout",
     "output_type": "stream",
     "text": [
      "CPU times: user 192 ms, sys: 30 µs, total: 192 ms\n",
      "Wall time: 195 ms\n"
     ]
    }
   ],
   "source": [
    "%%time\n",
    "segments_dict = sp.retrieve_segments(filled_datasets,FileType = \"NetCDF\")"
   ]
  },
  {
   "cell_type": "markdown",
   "id": "911892f3-8f4a-4adb-a389-039d2a780431",
   "metadata": {},
   "source": [
    "## **Compute Wavenumber spectra 📊**"
   ]
  },
  {
   "cell_type": "code",
   "execution_count": 8,
   "id": "349c700d-c235-49d0-bd51-a58ad2608c13",
   "metadata": {
    "tags": []
   },
   "outputs": [
    {
     "name": "stdout",
     "output_type": "stream",
     "text": [
      "CPU times: user 233 ms, sys: 2 s, total: 2.23 s\n",
      "Wall time: 4.45 s\n"
     ]
    }
   ],
   "source": [
    "%%time\n",
    "psd_dict, freqs_dict = sp.calculate_psd(segments_dict)\n",
    "# Calculate PSD Mean\n",
    "psd_mean, freqs_mean = sp.psd_mean_and_freq(psd_dict,freqs_dict)"
   ]
  },
  {
   "cell_type": "markdown",
   "id": "73f6b0e9-7533-446f-a5d7-945445a3d46c",
   "metadata": {},
   "source": [
    "## **Plot 📉**"
   ]
  },
  {
   "cell_type": "code",
   "execution_count": 10,
   "id": "3f86bb21-000a-4a48-856d-a517c32219af",
   "metadata": {
    "tags": []
   },
   "outputs": [
    {
     "data": {
      "image/png": "[encoded data removed]",
      "text/plain": [
       "<Figure size 800x800 with 1 Axes>"
      ]
     },
     "metadata": {},
     "output_type": "display_data"
    }
   ],
   "source": [
    "fig, ax_ = plt.subplots(1, 1, figsize=(8, 8))\n",
    "sp.plot_psd(ax_, freqs_mean, psd_mean, unit = \"m2\",psd_labels=\"PSD\",title=\"PSD\",savefig=True,filename=\"psd_1.png\",plot_transparent=True)"
   ]
  }
 ],
 "metadata": {
  "kernelspec": {
   "display_name": "Helpdesk SwotLR (DEV)",
   "language": "python",
   "name": "py311_swotlr_dev"
  },
  "language_info": {
   "codemirror_mode": {
    "name": "ipython",
    "version": 3
   },
   "file_extension": ".py",
   "mimetype": "text/x-python",
   "name": "python",
   "nbconvert_exporter": "python",
   "pygments_lexer": "ipython3",
   "version": "3.11.0"
  }
 },
 "nbformat": 4,
 "nbformat_minor": 5
}
